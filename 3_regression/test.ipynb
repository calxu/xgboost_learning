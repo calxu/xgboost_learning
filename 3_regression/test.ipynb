{
 "cells": [
  {
   "cell_type": "code",
   "execution_count": 1,
   "metadata": {},
   "outputs": [],
   "source": [
    "import pandas\n",
    "import xgboost as xgb\n",
    "import numpy as np\n",
    "\n",
    "# MSE评估指标\n",
    "from sklearn.metrics import mean_squared_error   "
   ]
  },
  {
   "cell_type": "code",
   "execution_count": 2,
   "metadata": {},
   "outputs": [],
   "source": [
    "# 读取训练集\n",
    "with open('Concrete_Data.train', encoding = 'utf-8') as f:\n",
    "    train = np.loadtxt(f, delimiter = '\\t')\n",
    "    \n",
    "# 读取测试集\n",
    "with open('Concrete_Data.test', encoding = 'utf-8') as f:\n",
    "    test  = np.loadtxt(f, delimiter = '\\t')"
   ]
  },
  {
   "cell_type": "code",
   "execution_count": 3,
   "metadata": {},
   "outputs": [],
   "source": [
    "train_data, train_label = train[:, :8], train[:, 8]\n",
    "test_data,  test_label  = test[:, :8],  test[:, 8]"
   ]
  },
  {
   "cell_type": "code",
   "execution_count": 4,
   "metadata": {},
   "outputs": [],
   "source": [
    "# train_data; train_label\n",
    "# test_data; test_label"
   ]
  },
  {
   "cell_type": "code",
   "execution_count": 5,
   "metadata": {},
   "outputs": [
    {
     "name": "stderr",
     "output_type": "stream",
     "text": [
      "/usr/local/lib64/python3.6/site-packages/xgboost/data.py:97: UserWarning: Use subset (sliced data) of np.ndarray is not recommended because it will generate extra copies and increase memory consumption\n",
      "  \"memory consumption\")\n"
     ]
    }
   ],
   "source": [
    "xgb_train = xgb.DMatrix(train_data, label = train_label)\n",
    "xgb_test  = xgb.DMatrix(test_data,  label = test_label)"
   ]
  },
  {
   "cell_type": "markdown",
   "metadata": {},
   "source": [
    "# 训练模型"
   ]
  },
  {
   "cell_type": "code",
   "execution_count": 6,
   "metadata": {},
   "outputs": [],
   "source": [
    "# 模型训练\n",
    "\n",
    "params = {\n",
    "    \"objective\": \"reg:squarederror\",\n",
    "    \"booster\": \"gbtree\",\n",
    "    \"eta\": 0.1,\n",
    "    \"max_depth\": 5\n",
    "}\n",
    "\n",
    "watchlist = [(xgb_train, \"train\"), (xgb_test, \"test\")]\n",
    "num_round = 50"
   ]
  },
  {
   "cell_type": "code",
   "execution_count": 7,
   "metadata": {
    "scrolled": true
   },
   "outputs": [
    {
     "name": "stdout",
     "output_type": "stream",
     "text": [
      "[0]\ttrain-rmse:35.59532\ttest-rmse:34.48854\n",
      "[1]\ttrain-rmse:32.28333\ttest-rmse:31.17810\n",
      "[2]\ttrain-rmse:29.29507\ttest-rmse:28.25004\n",
      "[3]\ttrain-rmse:26.60655\ttest-rmse:25.56695\n",
      "[4]\ttrain-rmse:24.19229\ttest-rmse:23.24119\n",
      "[5]\ttrain-rmse:21.99908\ttest-rmse:21.15757\n",
      "[6]\ttrain-rmse:20.03854\ttest-rmse:19.27457\n",
      "[7]\ttrain-rmse:18.25928\ttest-rmse:17.54239\n",
      "[8]\ttrain-rmse:16.67010\ttest-rmse:16.03872\n",
      "[9]\ttrain-rmse:15.22972\ttest-rmse:14.67280\n",
      "[10]\ttrain-rmse:13.94432\ttest-rmse:13.45781\n",
      "[11]\ttrain-rmse:12.79568\ttest-rmse:12.40262\n",
      "[12]\ttrain-rmse:11.76833\ttest-rmse:11.44372\n",
      "[13]\ttrain-rmse:10.83040\ttest-rmse:10.63010\n",
      "[14]\ttrain-rmse:9.98320\ttest-rmse:9.89824\n",
      "[15]\ttrain-rmse:9.23581\ttest-rmse:9.26404\n",
      "[16]\ttrain-rmse:8.57191\ttest-rmse:8.71819\n",
      "[17]\ttrain-rmse:7.96287\ttest-rmse:8.25212\n",
      "[18]\ttrain-rmse:7.43106\ttest-rmse:7.79658\n",
      "[19]\ttrain-rmse:6.93771\ttest-rmse:7.40677\n",
      "[20]\ttrain-rmse:6.51394\ttest-rmse:7.09916\n",
      "[21]\ttrain-rmse:6.12802\ttest-rmse:6.80679\n",
      "[22]\ttrain-rmse:5.77917\ttest-rmse:6.58563\n",
      "[23]\ttrain-rmse:5.47700\ttest-rmse:6.37991\n",
      "[24]\ttrain-rmse:5.20354\ttest-rmse:6.20970\n",
      "[25]\ttrain-rmse:4.96840\ttest-rmse:6.07868\n",
      "[26]\ttrain-rmse:4.75188\ttest-rmse:5.94368\n",
      "[27]\ttrain-rmse:4.56156\ttest-rmse:5.84375\n",
      "[28]\ttrain-rmse:4.37927\ttest-rmse:5.75784\n",
      "[29]\ttrain-rmse:4.22924\ttest-rmse:5.68589\n",
      "[30]\ttrain-rmse:4.10373\ttest-rmse:5.60969\n",
      "[31]\ttrain-rmse:3.98084\ttest-rmse:5.54582\n",
      "[32]\ttrain-rmse:3.87033\ttest-rmse:5.47903\n",
      "[33]\ttrain-rmse:3.77825\ttest-rmse:5.45203\n",
      "[34]\ttrain-rmse:3.68866\ttest-rmse:5.40421\n",
      "[35]\ttrain-rmse:3.59768\ttest-rmse:5.37915\n",
      "[36]\ttrain-rmse:3.52523\ttest-rmse:5.36861\n",
      "[37]\ttrain-rmse:3.44993\ttest-rmse:5.33092\n",
      "[38]\ttrain-rmse:3.37911\ttest-rmse:5.29905\n",
      "[39]\ttrain-rmse:3.32818\ttest-rmse:5.27514\n",
      "[40]\ttrain-rmse:3.28314\ttest-rmse:5.26256\n",
      "[41]\ttrain-rmse:3.22907\ttest-rmse:5.23984\n",
      "[42]\ttrain-rmse:3.18887\ttest-rmse:5.21382\n",
      "[43]\ttrain-rmse:3.15245\ttest-rmse:5.19322\n",
      "[44]\ttrain-rmse:3.11176\ttest-rmse:5.18027\n",
      "[45]\ttrain-rmse:3.07903\ttest-rmse:5.18189\n",
      "[46]\ttrain-rmse:3.05031\ttest-rmse:5.18520\n",
      "[47]\ttrain-rmse:3.00542\ttest-rmse:5.13780\n",
      "[48]\ttrain-rmse:2.97864\ttest-rmse:5.12022\n",
      "[49]\ttrain-rmse:2.95194\ttest-rmse:5.10343\n"
     ]
    }
   ],
   "source": [
    "model = xgb.train(params, xgb_train, num_round, watchlist)"
   ]
  },
  {
   "cell_type": "code",
   "execution_count": 8,
   "metadata": {
    "scrolled": true
   },
   "outputs": [
    {
     "name": "stdout",
     "output_type": "stream",
     "text": [
      "[41.546894  41.60911   37.321762  33.064735  34.57381   51.063396\n",
      " 44.7506    43.189137  32.589413  48.55726   10.230991  13.47379\n",
      " 44.7506    51.063396  51.542694  36.250328  63.10354   33.171738\n",
      " 30.906002  41.130844  46.749966  58.93286   67.46832   64.16438\n",
      " 67.690216  76.16386   65.32203   67.89417   60.70991   77.12456\n",
      " 78.07977   62.794743  21.670845  34.087906  24.3421    25.309769\n",
      " 29.708382  37.98077   34.42496   37.45829   35.273224  18.76755\n",
      " 45.861168  17.659277  33.47114   26.324144  36.265846  32.998352\n",
      " 14.9218855 45.23027   13.893922  31.85168   17.032255  47.84255\n",
      " 12.419657  38.265648  45.277107  50.82395   53.331654  40.188232\n",
      " 50.09353   21.19416   20.966019  37.832848  51.62334   52.36193\n",
      " 62.162754  36.707775  17.297842  65.45212   65.50829   65.50829\n",
      " 27.642462  12.968562  13.432876  12.853948  23.79215   24.392971\n",
      " 37.303112  34.95495   41.98613   38.809284  34.818245  48.818123\n",
      " 38.331886  53.07672   48.579662  51.84434   39.291695  40.81386\n",
      " 53.76303   59.105515  28.57561   42.95609   42.10252   54.439342\n",
      " 30.22391   30.22391   41.934     55.494793  57.288704  60.449413\n",
      " 29.597782  42.443314  65.12518   66.88085   24.339115  13.439128\n",
      " 24.990711  36.243984  36.243984  12.14564   24.982183  21.02907\n",
      " 38.409134  34.131958  18.97342   28.565123  37.090515  31.984869\n",
      " 22.111292  26.8039    25.404392  22.141706  34.947464  37.09369\n",
      " 16.709822  25.029694  25.76217   35.518158   9.062768   9.76855\n",
      " 23.524258  23.706501  38.73711   21.52679   26.986639   4.8933325\n",
      " 13.957882   8.102833  29.830746  31.97601   24.603237   8.733809\n",
      " 11.991206  34.587963  48.404713   8.539572  38.2679    30.42875\n",
      " 37.376926  30.720533  24.063375  33.8882    67.01972   68.93305\n",
      " 22.100843  34.22708   20.306591  18.97342   14.551873  37.33194\n",
      " 17.929932  40.021545  20.04617   24.239117  36.566135  34.912743\n",
      " 44.788277  28.557783  18.166487  40.615753  16.892485  43.13532\n",
      " 23.269365  31.109303  44.503     32.243935  16.80582   38.220432\n",
      " 14.025772  22.844704  29.947657  25.021692  38.106316  45.662025\n",
      " 44.009125  14.773268  12.171119  14.66319   41.629017  41.84537\n",
      " 28.3266    31.58263   19.440687  31.0552    32.186764  25.332045\n",
      " 22.844704  39.655197  44.813362  46.538425  32.73481   12.171119\n",
      " 12.205915  34.0678    34.253323  41.985207  16.892485  31.109303\n",
      " 44.503     50.02277   43.291283  43.06737  ]\n"
     ]
    }
   ],
   "source": [
    "# 模型预测\n",
    "pred = model.predict(xgb_test)\n",
    "\n",
    "print(pred)"
   ]
  },
  {
   "cell_type": "code",
   "execution_count": 9,
   "metadata": {},
   "outputs": [
    {
     "data": {
      "text/plain": [
       "5.103425617874393"
      ]
     },
     "execution_count": 9,
     "metadata": {},
     "output_type": "execute_result"
    }
   ],
   "source": [
    "# RMSE评估指标\n",
    "np.sqrt(mean_squared_error(test_label, pred))"
   ]
  }
 ],
 "metadata": {
  "kernelspec": {
   "display_name": "Python 3",
   "language": "python",
   "name": "python3"
  },
  "language_info": {
   "codemirror_mode": {
    "name": "ipython",
    "version": 3
   },
   "file_extension": ".py",
   "mimetype": "text/x-python",
   "name": "python",
   "nbconvert_exporter": "python",
   "pygments_lexer": "ipython3",
   "version": "3.6.8"
  }
 },
 "nbformat": 4,
 "nbformat_minor": 4
}
