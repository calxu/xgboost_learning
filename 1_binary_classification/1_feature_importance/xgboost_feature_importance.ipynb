{
 "cells": [
  {
   "cell_type": "code",
   "execution_count": 1,
   "metadata": {},
   "outputs": [],
   "source": [
    "# 导入常用包\n",
    "import xgboost as xgb\n",
    "import numpy as np\n",
    "from sklearn import datasets\n",
    "from sklearn.model_selection import train_test_split\n",
    "import pandas as pd"
   ]
  },
  {
   "cell_type": "code",
   "execution_count": 2,
   "metadata": {},
   "outputs": [],
   "source": [
    "# 数据集\n",
    "cancer = datasets.load_breast_cancer()\n",
    "X = cancer.data\n",
    "Y = cancer.target"
   ]
  },
  {
   "cell_type": "code",
   "execution_count": 3,
   "metadata": {
    "scrolled": true
   },
   "outputs": [],
   "source": [
    "# 数据集的情况\n",
    "# X.shape\n",
    "# Y.shape\n",
    "# X, Y"
   ]
  },
  {
   "cell_type": "code",
   "execution_count": 4,
   "metadata": {},
   "outputs": [],
   "source": [
    "# 拆分训练集、测试集\n",
    "X_train, X_test, Y_train, Y_test = train_test_split(X, Y, test_size = 1/5., random_state = 8)"
   ]
  },
  {
   "cell_type": "code",
   "execution_count": 5,
   "metadata": {},
   "outputs": [],
   "source": [
    "xgb_train = xgb.DMatrix(X_train, label = Y_train)\n",
    "xgb_test  = xgb.DMatrix(X_test,  label = Y_test)"
   ]
  },
  {
   "cell_type": "code",
   "execution_count": 6,
   "metadata": {},
   "outputs": [],
   "source": [
    "params = {\"objective\": \"binary:logistic\",\n",
    "          \"booster\": \"gbtree\",\n",
    "          \"eta\": 0.1,\n",
    "          \"max_depth\": 5\n",
    "         }\n",
    "\n",
    "num_round = 50"
   ]
  },
  {
   "cell_type": "code",
   "execution_count": 7,
   "metadata": {},
   "outputs": [],
   "source": [
    "watchlist = [(xgb_test, 'eval'), (xgb_train, 'train')]"
   ]
  },
  {
   "cell_type": "code",
   "execution_count": 8,
   "metadata": {
    "scrolled": true
   },
   "outputs": [
    {
     "name": "stdout",
     "output_type": "stream",
     "text": [
      "[0]\teval-error:0.03509\ttrain-error:0.02418\n",
      "[1]\teval-error:0.05263\ttrain-error:0.01538\n",
      "[2]\teval-error:0.07018\ttrain-error:0.01319\n",
      "[3]\teval-error:0.07895\ttrain-error:0.00440\n",
      "[4]\teval-error:0.07895\ttrain-error:0.00440\n",
      "[5]\teval-error:0.04386\ttrain-error:0.00440\n",
      "[6]\teval-error:0.05263\ttrain-error:0.00440\n",
      "[7]\teval-error:0.06140\ttrain-error:0.00440\n",
      "[8]\teval-error:0.05263\ttrain-error:0.00440\n",
      "[9]\teval-error:0.04386\ttrain-error:0.00440\n",
      "[10]\teval-error:0.04386\ttrain-error:0.00440\n",
      "[11]\teval-error:0.04386\ttrain-error:0.00440\n",
      "[12]\teval-error:0.04386\ttrain-error:0.00440\n",
      "[13]\teval-error:0.04386\ttrain-error:0.00440\n",
      "[14]\teval-error:0.03509\ttrain-error:0.00440\n",
      "[15]\teval-error:0.03509\ttrain-error:0.00440\n",
      "[16]\teval-error:0.03509\ttrain-error:0.00440\n",
      "[17]\teval-error:0.04386\ttrain-error:0.00440\n",
      "[18]\teval-error:0.04386\ttrain-error:0.00440\n",
      "[19]\teval-error:0.04386\ttrain-error:0.00440\n",
      "[20]\teval-error:0.04386\ttrain-error:0.00440\n",
      "[21]\teval-error:0.04386\ttrain-error:0.00440\n",
      "[22]\teval-error:0.04386\ttrain-error:0.00440\n",
      "[23]\teval-error:0.04386\ttrain-error:0.00440\n",
      "[24]\teval-error:0.04386\ttrain-error:0.00440\n",
      "[25]\teval-error:0.04386\ttrain-error:0.00440\n",
      "[26]\teval-error:0.04386\ttrain-error:0.00440\n",
      "[27]\teval-error:0.03509\ttrain-error:0.00440\n",
      "[28]\teval-error:0.03509\ttrain-error:0.00440\n",
      "[29]\teval-error:0.04386\ttrain-error:0.00440\n",
      "[30]\teval-error:0.04386\ttrain-error:0.00440\n",
      "[31]\teval-error:0.04386\ttrain-error:0.00440\n",
      "[32]\teval-error:0.04386\ttrain-error:0.00440\n",
      "[33]\teval-error:0.04386\ttrain-error:0.00220\n",
      "[34]\teval-error:0.04386\ttrain-error:0.00220\n",
      "[35]\teval-error:0.04386\ttrain-error:0.00220\n",
      "[36]\teval-error:0.04386\ttrain-error:0.00220\n",
      "[37]\teval-error:0.04386\ttrain-error:0.00220\n",
      "[38]\teval-error:0.04386\ttrain-error:0.00220\n",
      "[39]\teval-error:0.04386\ttrain-error:0.00220\n",
      "[40]\teval-error:0.04386\ttrain-error:0.00220\n",
      "[41]\teval-error:0.04386\ttrain-error:0.00220\n",
      "[42]\teval-error:0.04386\ttrain-error:0.00220\n",
      "[43]\teval-error:0.04386\ttrain-error:0.00220\n",
      "[44]\teval-error:0.04386\ttrain-error:0.00220\n",
      "[45]\teval-error:0.04386\ttrain-error:0.00220\n",
      "[46]\teval-error:0.04386\ttrain-error:0.00220\n",
      "[47]\teval-error:0.04386\ttrain-error:0.00000\n",
      "[48]\teval-error:0.04386\ttrain-error:0.00000\n",
      "[49]\teval-error:0.04386\ttrain-error:0.00000\n"
     ]
    }
   ],
   "source": [
    "bst = xgb.train(params, xgb_train, num_round, watchlist) "
   ]
  },
  {
   "cell_type": "code",
   "execution_count": 9,
   "metadata": {
    "scrolled": false
   },
   "outputs": [
    {
     "data": {
      "text/plain": [
       "{'f22': 24,\n",
       " 'f27': 42,\n",
       " 'f13': 31,\n",
       " 'f1': 38,\n",
       " 'f6': 14,\n",
       " 'f0': 3,\n",
       " 'f7': 16,\n",
       " 'f4': 11,\n",
       " 'f11': 5,\n",
       " 'f20': 13,\n",
       " 'f23': 56,\n",
       " 'f21': 44,\n",
       " 'f18': 4,\n",
       " 'f5': 6,\n",
       " 'f15': 6,\n",
       " 'f12': 4,\n",
       " 'f14': 10,\n",
       " 'f19': 4,\n",
       " 'f10': 3,\n",
       " 'f26': 15,\n",
       " 'f28': 8,\n",
       " 'f29': 7,\n",
       " 'f24': 22,\n",
       " 'f16': 1,\n",
       " 'f3': 3,\n",
       " 'f9': 9,\n",
       " 'f8': 4,\n",
       " 'f2': 1}"
      ]
     },
     "execution_count": 9,
     "metadata": {},
     "output_type": "execute_result"
    }
   ],
   "source": [
    "# get_fscore采用默认的weight指标计算特征重要性\n",
    "\n",
    "bst.get_score(importance_type=\"weight\")\n",
    "# bst.get_fscore()\n",
    "\n",
    "# 降序显示\n",
    "# importance = bst.get_score(importance_type=\"weight\")\n",
    "# importance = sorted(importance.items(), key = lambda x: x[1], reverse = True)\n",
    "# importance"
   ]
  },
  {
   "cell_type": "code",
   "execution_count": 10,
   "metadata": {},
   "outputs": [
    {
     "data": {
      "text/plain": [
       "{'f22': 1258.4756292146,\n",
       " 'f27': 243.20585415000002,\n",
       " 'f13': 58.78795041,\n",
       " 'f1': 84.39384306479998,\n",
       " 'f6': 122.37195240300002,\n",
       " 'f0': 3.6538239110000004,\n",
       " 'f7': 422.680410207,\n",
       " 'f4': 4.398940087,\n",
       " 'f11': 3.7740966050000004,\n",
       " 'f20': 32.051757279200004,\n",
       " 'f23': 469.1320059625001,\n",
       " 'f21': 114.39452211259999,\n",
       " 'f18': 8.13871385,\n",
       " 'f5': 5.201644599,\n",
       " 'f15': 3.3773617704000003,\n",
       " 'f12': 2.3913688700000004,\n",
       " 'f14': 7.2213765287,\n",
       " 'f19': 7.591389172,\n",
       " 'f10': 3.947612285,\n",
       " 'f26': 64.1091777,\n",
       " 'f28': 2.9816552401900003,\n",
       " 'f29': 3.657013297,\n",
       " 'f24': 20.453484242000002,\n",
       " 'f16': 0.0649204254,\n",
       " 'f3': 7.28776741,\n",
       " 'f9': 8.622437242999998,\n",
       " 'f8': 2.087030709,\n",
       " 'f2': 0.344041944}"
      ]
     },
     "execution_count": 10,
     "metadata": {},
     "output_type": "execute_result"
    }
   ],
   "source": [
    "# total_gain = gain * weight\n",
    "# bst.get_score(importance_type = \"gain\")\n",
    "bst.get_score(importance_type = \"total_gain\")"
   ]
  },
  {
   "cell_type": "code",
   "execution_count": 11,
   "metadata": {},
   "outputs": [
    {
     "data": {
      "text/plain": [
       "{'f22': 1174.1206246499999,\n",
       " 'f27': 1353.6097365100004,\n",
       " 'f13': 840.26337532,\n",
       " 'f1': 353.5747971600001,\n",
       " 'f6': 231.70705701999995,\n",
       " 'f0': 6.81152153,\n",
       " 'f7': 557.19556285,\n",
       " 'f4': 103.92826792000001,\n",
       " 'f11': 53.66402295000001,\n",
       " 'f20': 52.87916612999999,\n",
       " 'f23': 1192.4740536900001,\n",
       " 'f21': 603.0956798600004,\n",
       " 'f18': 18.75723147,\n",
       " 'f5': 49.43621255,\n",
       " 'f15': 59.32206844000001,\n",
       " 'f12': 77.94177531000001,\n",
       " 'f14': 302.5405495,\n",
       " 'f19': 70.18245392,\n",
       " 'f10': 110.76232717,\n",
       " 'f26': 260.46989049999996,\n",
       " 'f28': 121.15559074999999,\n",
       " 'f29': 48.375889980000004,\n",
       " 'f24': 142.38754865,\n",
       " 'f16': 21.1314545,\n",
       " 'f3': 63.04397590000001,\n",
       " 'f9': 40.30549384,\n",
       " 'f8': 11.02852606,\n",
       " 'f2': 2.02305269}"
      ]
     },
     "execution_count": 11,
     "metadata": {},
     "output_type": "execute_result"
    }
   ],
   "source": [
    "# bst.get_score(importance_type = \"cover\")\n",
    "bst.get_score(importance_type = \"total_cover\")"
   ]
  },
  {
   "cell_type": "code",
   "execution_count": 12,
   "metadata": {},
   "outputs": [
    {
     "data": {
      "image/png": "[encoded data removed]",
      "text/plain": [
       "<Figure size 432x288 with 1 Axes>"
      ]
     },
     "metadata": {
      "needs_background": "light"
     },
     "output_type": "display_data"
    }
   ],
   "source": [
    "# 特征重要性可视化\n",
    "import matplotlib.pyplot as plt\n",
    "\n",
    "xgb.plot_importance(bst, height = 0.5)\n",
    "plt.show()"
   ]
  }
 ],
 "metadata": {
  "kernelspec": {
   "display_name": "Python 3",
   "language": "python",
   "name": "python3"
  },
  "language_info": {
   "codemirror_mode": {
    "name": "ipython",
    "version": 3
   },
   "file_extension": ".py",
   "mimetype": "text/x-python",
   "name": "python",
   "nbconvert_exporter": "python",
   "pygments_lexer": "ipython3",
   "version": "3.6.8"
  }
 },
 "nbformat": 4,
 "nbformat_minor": 4
}
