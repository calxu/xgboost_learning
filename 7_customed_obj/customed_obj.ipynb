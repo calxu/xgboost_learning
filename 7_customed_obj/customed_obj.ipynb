{
 "cells": [
  {
   "cell_type": "code",
   "execution_count": 1,
   "metadata": {},
   "outputs": [],
   "source": [
    "# 导入常用包\n",
    "import xgboost as xgb\n",
    "import numpy as np\n",
    "from sklearn import datasets\n",
    "from sklearn.model_selection import train_test_split\n",
    "import pandas as pd\n",
    "from sklearn.metrics import roc_auc_score\n",
    "from sklearn.feature_selection import SelectFromModel"
   ]
  },
  {
   "cell_type": "code",
   "execution_count": 2,
   "metadata": {},
   "outputs": [],
   "source": [
    "# 数据集\n",
    "cancer = datasets.load_breast_cancer()\n",
    "X = cancer.data\n",
    "Y = cancer.target"
   ]
  },
  {
   "cell_type": "code",
   "execution_count": 3,
   "metadata": {},
   "outputs": [],
   "source": [
    "# 数据集的情况\n",
    "# X.shape\n",
    "# Y.shape\n",
    "# X, Y"
   ]
  },
  {
   "cell_type": "code",
   "execution_count": 4,
   "metadata": {},
   "outputs": [],
   "source": [
    "# 拆分训练集、测试集\n",
    "X_train, X_test, Y_train, Y_test = train_test_split(X, Y, test_size = 1/5., random_state = 8)"
   ]
  },
  {
   "cell_type": "code",
   "execution_count": 5,
   "metadata": {},
   "outputs": [],
   "source": [
    "xgb_train = xgb.DMatrix(X_train, label = Y_train)\n",
    "xgb_test  = xgb.DMatrix(X_test,  label = Y_test)"
   ]
  },
  {
   "cell_type": "code",
   "execution_count": 6,
   "metadata": {},
   "outputs": [],
   "source": [
    "params = {\n",
    "    \"objective\": \"binary:logistic\",\n",
    "    \"booster\": \"gbtree\",\n",
    "    \"eta\": 0.1,\n",
    "    \"max_depth\": 2\n",
    "}"
   ]
  },
  {
   "cell_type": "code",
   "execution_count": 7,
   "metadata": {},
   "outputs": [],
   "source": [
    "num_round = 30"
   ]
  },
  {
   "cell_type": "code",
   "execution_count": 8,
   "metadata": {},
   "outputs": [],
   "source": [
    "watchlist = [(xgb_test, 'eval'), (xgb_train, 'train')]"
   ]
  },
  {
   "cell_type": "code",
   "execution_count": 9,
   "metadata": {},
   "outputs": [
    {
     "name": "stdout",
     "output_type": "stream",
     "text": [
      "[0]\teval-error:0.10526\ttrain-error:0.04835\n",
      "[1]\teval-error:0.08772\ttrain-error:0.04835\n",
      "[2]\teval-error:0.08772\ttrain-error:0.04615\n",
      "[3]\teval-error:0.07895\ttrain-error:0.04176\n",
      "[4]\teval-error:0.04386\ttrain-error:0.03956\n",
      "[5]\teval-error:0.04386\ttrain-error:0.03517\n",
      "[6]\teval-error:0.03509\ttrain-error:0.03077\n",
      "[7]\teval-error:0.03509\ttrain-error:0.02857\n",
      "[8]\teval-error:0.03509\ttrain-error:0.03077\n",
      "[9]\teval-error:0.03509\ttrain-error:0.02857\n",
      "[10]\teval-error:0.03509\ttrain-error:0.02857\n",
      "[11]\teval-error:0.03509\ttrain-error:0.02857\n",
      "[12]\teval-error:0.03509\ttrain-error:0.02637\n",
      "[13]\teval-error:0.03509\ttrain-error:0.02418\n",
      "[14]\teval-error:0.03509\ttrain-error:0.02418\n",
      "[15]\teval-error:0.03509\ttrain-error:0.02418\n",
      "[16]\teval-error:0.02632\ttrain-error:0.02198\n",
      "[17]\teval-error:0.04386\ttrain-error:0.02418\n",
      "[18]\teval-error:0.03509\ttrain-error:0.01978\n",
      "[19]\teval-error:0.03509\ttrain-error:0.01978\n",
      "[20]\teval-error:0.03509\ttrain-error:0.01758\n",
      "[21]\teval-error:0.03509\ttrain-error:0.01758\n",
      "[22]\teval-error:0.03509\ttrain-error:0.01099\n",
      "[23]\teval-error:0.03509\ttrain-error:0.01319\n",
      "[24]\teval-error:0.03509\ttrain-error:0.01099\n",
      "[25]\teval-error:0.03509\ttrain-error:0.00879\n",
      "[26]\teval-error:0.03509\ttrain-error:0.00879\n",
      "[27]\teval-error:0.03509\ttrain-error:0.00879\n",
      "[28]\teval-error:0.03509\ttrain-error:0.00879\n",
      "[29]\teval-error:0.03509\ttrain-error:0.00879\n"
     ]
    }
   ],
   "source": [
    "bst1 = xgb.train(params, xgb_train, num_round, watchlist)"
   ]
  },
  {
   "cell_type": "code",
   "execution_count": 10,
   "metadata": {},
   "outputs": [],
   "source": [
    "def logregobj(preds, dtrain):\n",
    "    labels = dtrain.get_label()\n",
    "    preds = 1.0 / (1.0 + np.exp(-preds))\n",
    "    grad = preds - labels\n",
    "    hess = preds * (1.0 - preds)\n",
    "    return grad, hess"
   ]
  },
  {
   "cell_type": "code",
   "execution_count": 11,
   "metadata": {},
   "outputs": [],
   "source": [
    "def evalerror(preds, dtrain):\n",
    "    labels = dtrain.get_label()\n",
    "    preds = 1.0 / (1.0 + np.exp(-preds))\n",
    "    return 'error', float(sum(labels != (preds > 0.5))) / len(labels)"
   ]
  },
  {
   "cell_type": "code",
   "execution_count": 12,
   "metadata": {},
   "outputs": [],
   "source": [
    "params = {\n",
    "    'objective': 'reg:logistic',\n",
    "    \"booster\": \"gbtree\",\n",
    "    \"eta\": 0.1,\n",
    "    \"max_depth\": 2\n",
    "}"
   ]
  },
  {
   "cell_type": "code",
   "execution_count": 13,
   "metadata": {},
   "outputs": [
    {
     "name": "stdout",
     "output_type": "stream",
     "text": [
      "[0]\teval-rmse:0.46382\ttrain-rmse:0.45993\teval-error:0.10526\ttrain-error:0.04835\n",
      "[1]\teval-rmse:0.42722\ttrain-rmse:0.42529\teval-error:0.08772\ttrain-error:0.04835\n",
      "[2]\teval-rmse:0.39949\ttrain-rmse:0.39349\teval-error:0.08772\ttrain-error:0.04615\n",
      "[3]\teval-rmse:0.37009\ttrain-rmse:0.36511\teval-error:0.07895\ttrain-error:0.04176\n",
      "[4]\teval-rmse:0.34606\ttrain-rmse:0.33943\teval-error:0.04386\ttrain-error:0.03956\n",
      "[5]\teval-rmse:0.32340\ttrain-rmse:0.31664\teval-error:0.04386\ttrain-error:0.03517\n",
      "[6]\teval-rmse:0.30335\ttrain-rmse:0.29625\teval-error:0.03509\ttrain-error:0.03077\n",
      "[7]\teval-rmse:0.28509\ttrain-rmse:0.27919\teval-error:0.03509\ttrain-error:0.02857\n",
      "[8]\teval-rmse:0.27465\ttrain-rmse:0.26329\teval-error:0.03509\ttrain-error:0.03077\n",
      "[9]\teval-rmse:0.26197\ttrain-rmse:0.24898\teval-error:0.03509\ttrain-error:0.02857\n",
      "[10]\teval-rmse:0.25492\ttrain-rmse:0.23679\teval-error:0.03509\ttrain-error:0.02857\n",
      "[11]\teval-rmse:0.24715\ttrain-rmse:0.22515\teval-error:0.03509\ttrain-error:0.02857\n",
      "[12]\teval-rmse:0.23789\ttrain-rmse:0.21575\teval-error:0.03509\ttrain-error:0.02637\n",
      "[13]\teval-rmse:0.22998\ttrain-rmse:0.20666\teval-error:0.03509\ttrain-error:0.02418\n",
      "[14]\teval-rmse:0.22244\ttrain-rmse:0.19796\teval-error:0.03509\ttrain-error:0.02418\n",
      "[15]\teval-rmse:0.21617\ttrain-rmse:0.19098\teval-error:0.03509\ttrain-error:0.02418\n",
      "[16]\teval-rmse:0.20956\ttrain-rmse:0.18429\teval-error:0.02632\ttrain-error:0.02198\n",
      "[17]\teval-rmse:0.20607\ttrain-rmse:0.17831\teval-error:0.04386\ttrain-error:0.02418\n",
      "[18]\teval-rmse:0.20108\ttrain-rmse:0.17249\teval-error:0.03509\ttrain-error:0.01978\n",
      "[19]\teval-rmse:0.19572\ttrain-rmse:0.16717\teval-error:0.03509\ttrain-error:0.01978\n",
      "[20]\teval-rmse:0.19254\ttrain-rmse:0.16252\teval-error:0.03509\ttrain-error:0.01758\n",
      "[21]\teval-rmse:0.18929\ttrain-rmse:0.15791\teval-error:0.03509\ttrain-error:0.01758\n",
      "[22]\teval-rmse:0.18595\ttrain-rmse:0.15408\teval-error:0.03509\ttrain-error:0.01099\n",
      "[23]\teval-rmse:0.18436\ttrain-rmse:0.15037\teval-error:0.03509\ttrain-error:0.01319\n",
      "[24]\teval-rmse:0.18299\ttrain-rmse:0.14706\teval-error:0.03509\ttrain-error:0.01099\n",
      "[25]\teval-rmse:0.18191\ttrain-rmse:0.14387\teval-error:0.03509\ttrain-error:0.00879\n",
      "[26]\teval-rmse:0.18039\ttrain-rmse:0.14074\teval-error:0.03509\ttrain-error:0.00879\n",
      "[27]\teval-rmse:0.17702\ttrain-rmse:0.13745\teval-error:0.03509\ttrain-error:0.00879\n",
      "[28]\teval-rmse:0.17399\ttrain-rmse:0.13492\teval-error:0.03509\ttrain-error:0.00879\n",
      "[29]\teval-rmse:0.17324\ttrain-rmse:0.13280\teval-error:0.03509\ttrain-error:0.00879\n"
     ]
    }
   ],
   "source": [
    "bst2 = xgb.train(params, xgb_train, num_round, watchlist, obj = logregobj, feval = evalerror)"
   ]
  },
  {
   "cell_type": "code",
   "execution_count": 14,
   "metadata": {},
   "outputs": [
    {
     "data": {
      "text/plain": [
       "array([0.9644884 , 0.9376393 , 0.9619146 , 0.95229685, 0.96051735,\n",
       "       0.9644884 , 0.64606786, 0.47605127, 0.958065  , 0.9644884 ,\n",
       "       0.95229685, 0.9562215 , 0.9619146 , 0.03260273, 0.04494493,\n",
       "       0.9591457 , 0.91186637, 0.03621832, 0.69647205, 0.03260273,\n",
       "       0.79840696, 0.1766003 , 0.73952323, 0.9619146 , 0.9608883 ,\n",
       "       0.33771825, 0.05597691, 0.03260273, 0.95637906, 0.9404159 ,\n",
       "       0.9644884 , 0.9494759 , 0.06781618, 0.03260273, 0.04011195,\n",
       "       0.94670725, 0.04509089, 0.04494493, 0.74305564, 0.03260273,\n",
       "       0.9644884 , 0.03260273, 0.08348227, 0.95637906, 0.6900638 ,\n",
       "       0.9619146 , 0.8981643 , 0.06372928, 0.03621832, 0.03260273,\n",
       "       0.7227807 , 0.07643224, 0.9431629 , 0.10546214, 0.9431629 ,\n",
       "       0.03260273, 0.03260273, 0.9644884 , 0.9644884 , 0.9644884 ,\n",
       "       0.03621832, 0.05699695, 0.9608883 , 0.8236815 , 0.9532413 ,\n",
       "       0.9591457 , 0.9644884 , 0.10198193, 0.95229685, 0.9061715 ,\n",
       "       0.08006211, 0.9187825 , 0.03260273, 0.9644884 , 0.03260273,\n",
       "       0.9181259 , 0.05024734, 0.94670725, 0.9608883 , 0.9644884 ,\n",
       "       0.03612224, 0.03621832, 0.94670725, 0.03260273, 0.958065  ,\n",
       "       0.9644884 , 0.55356026, 0.04073447, 0.9266078 , 0.05597691,\n",
       "       0.9644884 , 0.9644884 , 0.06897089, 0.92864835, 0.9619146 ,\n",
       "       0.2714273 , 0.5615739 , 0.95229685, 0.9644884 , 0.09229666,\n",
       "       0.94271624, 0.03621832, 0.9515468 , 0.03260273, 0.9608883 ,\n",
       "       0.5442224 , 0.9644884 , 0.03621832, 0.9619146 , 0.9519978 ,\n",
       "       0.74865156, 0.9608883 , 0.9305471 , 0.96051735], dtype=float32)"
      ]
     },
     "execution_count": 14,
     "metadata": {},
     "output_type": "execute_result"
    }
   ],
   "source": [
    "bst1.predict(xgb_test)#, output_margin = True)"
   ]
  },
  {
   "cell_type": "code",
   "execution_count": 15,
   "metadata": {},
   "outputs": [
    {
     "data": {
      "text/plain": [
       "array([0.9644884 , 0.9376393 , 0.9619146 , 0.95229685, 0.96051735,\n",
       "       0.9644884 , 0.64606786, 0.47605127, 0.958065  , 0.9644884 ,\n",
       "       0.95229685, 0.9562215 , 0.9619146 , 0.03260273, 0.04494493,\n",
       "       0.9591457 , 0.91186637, 0.03621832, 0.69647205, 0.03260273,\n",
       "       0.79840696, 0.1766003 , 0.73952323, 0.9619146 , 0.9608883 ,\n",
       "       0.33771825, 0.05597691, 0.03260273, 0.95637906, 0.9404159 ,\n",
       "       0.9644884 , 0.9494759 , 0.06781618, 0.03260273, 0.04011195,\n",
       "       0.94670725, 0.04509089, 0.04494493, 0.74305564, 0.03260273,\n",
       "       0.9644884 , 0.03260273, 0.08348227, 0.95637906, 0.6900638 ,\n",
       "       0.9619146 , 0.8981643 , 0.06372928, 0.03621832, 0.03260273,\n",
       "       0.7227807 , 0.07643224, 0.9431629 , 0.10546214, 0.9431629 ,\n",
       "       0.03260273, 0.03260273, 0.9644884 , 0.9644884 , 0.9644884 ,\n",
       "       0.03621832, 0.05699695, 0.9608883 , 0.8236815 , 0.9532413 ,\n",
       "       0.9591457 , 0.9644884 , 0.10198193, 0.95229685, 0.9061715 ,\n",
       "       0.08006211, 0.9187825 , 0.03260273, 0.9644884 , 0.03260273,\n",
       "       0.9181259 , 0.05024734, 0.94670725, 0.9608883 , 0.9644884 ,\n",
       "       0.03612224, 0.03621832, 0.94670725, 0.03260273, 0.958065  ,\n",
       "       0.9644884 , 0.55356026, 0.04073447, 0.9266078 , 0.05597691,\n",
       "       0.9644884 , 0.9644884 , 0.06897089, 0.92864835, 0.9619146 ,\n",
       "       0.2714273 , 0.5615739 , 0.95229685, 0.9644884 , 0.09229666,\n",
       "       0.94271624, 0.03621832, 0.9515468 , 0.03260273, 0.9608883 ,\n",
       "       0.5442224 , 0.9644884 , 0.03621832, 0.9619146 , 0.9519978 ,\n",
       "       0.74865156, 0.9608883 , 0.9305471 , 0.96051735], dtype=float32)"
      ]
     },
     "execution_count": 15,
     "metadata": {},
     "output_type": "execute_result"
    }
   ],
   "source": [
    "bst2.predict(xgb_test)"
   ]
  }
 ],
 "metadata": {
  "kernelspec": {
   "display_name": "Python 3",
   "language": "python",
   "name": "python3"
  },
  "language_info": {
   "codemirror_mode": {
    "name": "ipython",
    "version": 3
   },
   "file_extension": ".py",
   "mimetype": "text/x-python",
   "name": "python",
   "nbconvert_exporter": "python",
   "pygments_lexer": "ipython3",
   "version": "3.6.8"
  }
 },
 "nbformat": 4,
 "nbformat_minor": 4
}
