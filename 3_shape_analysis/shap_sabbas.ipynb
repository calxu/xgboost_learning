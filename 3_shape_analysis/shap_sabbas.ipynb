{
 "cells": [
  {
   "cell_type": "code",
   "execution_count": 1,
   "metadata": {},
   "outputs": [],
   "source": [
    "# 导入常用包\n",
    "import xgboost as xgb\n",
    "import numpy as np\n",
    "from sklearn import datasets\n",
    "from sklearn.model_selection import train_test_split\n",
    "import pandas as pd\n",
    "from sklearn.metrics import roc_auc_score\n",
    "from sklearn.feature_selection import SelectFromModel"
   ]
  },
  {
   "cell_type": "code",
   "execution_count": 2,
   "metadata": {},
   "outputs": [],
   "source": [
    "# 数据集\n",
    "cancer = datasets.load_breast_cancer()\n",
    "X = cancer.data\n",
    "Y = cancer.target"
   ]
  },
  {
   "cell_type": "code",
   "execution_count": 3,
   "metadata": {
    "scrolled": true
   },
   "outputs": [],
   "source": [
    "# 数据集的情况\n",
    "# X.shape\n",
    "# Y.shape\n",
    "# X, Y"
   ]
  },
  {
   "cell_type": "code",
   "execution_count": 4,
   "metadata": {},
   "outputs": [],
   "source": [
    "# 拆分训练集、测试集\n",
    "X_train, X_test, Y_train, Y_test = train_test_split(X, Y, test_size = 1/5., random_state = 8)"
   ]
  },
  {
   "cell_type": "code",
   "execution_count": 5,
   "metadata": {},
   "outputs": [],
   "source": [
    "xgb_train = xgb.DMatrix(X_train, label = Y_train)\n",
    "xgb_test  = xgb.DMatrix(X_test,  label = Y_test)"
   ]
  },
  {
   "cell_type": "code",
   "execution_count": 6,
   "metadata": {},
   "outputs": [],
   "source": [
    "params = {\"objective\": \"binary:logistic\",\n",
    "          \"booster\": \"gbtree\",\n",
    "          \"eta\": 1,\n",
    "          \"max_depth\": 2\n",
    "         }\n",
    "\n",
    "num_round = 10"
   ]
  },
  {
   "cell_type": "code",
   "execution_count": 7,
   "metadata": {},
   "outputs": [],
   "source": [
    "watchlist = [(xgb_test, 'eval'), (xgb_train, 'train')]"
   ]
  },
  {
   "cell_type": "code",
   "execution_count": 8,
   "metadata": {
    "scrolled": true
   },
   "outputs": [
    {
     "name": "stdout",
     "output_type": "stream",
     "text": [
      "[0]\teval-error:0.10526\ttrain-error:0.04835\n",
      "[1]\teval-error:0.10526\ttrain-error:0.03956\n",
      "[2]\teval-error:0.07018\ttrain-error:0.02857\n",
      "[3]\teval-error:0.07895\ttrain-error:0.01758\n",
      "[4]\teval-error:0.07018\ttrain-error:0.01099\n",
      "[5]\teval-error:0.04386\ttrain-error:0.01099\n",
      "[6]\teval-error:0.04386\ttrain-error:0.00879\n",
      "[7]\teval-error:0.05263\ttrain-error:0.00440\n",
      "[8]\teval-error:0.03509\ttrain-error:0.00220\n",
      "[9]\teval-error:0.04386\ttrain-error:0.00220\n"
     ]
    }
   ],
   "source": [
    "bst = xgb.train(params, xgb_train, num_round, watchlist)"
   ]
  },
  {
   "cell_type": "code",
   "execution_count": 9,
   "metadata": {
    "scrolled": true
   },
   "outputs": [
    {
     "name": "stdout",
     "output_type": "stream",
     "text": [
      "[ 0.          0.2905957   0.          0.17352277 -0.04271989  0.3219791\n",
      "  0.42704344  0.3493424   0.          0.          0.09485918  0.19571848\n",
      "  0.          0.73449516  0.         -0.598713    0.         -0.21128973\n",
      "  0.          0.          0.          0.72367036  1.495664    0.82000506\n",
      " -0.6888138   0.          0.6567661   0.9051105   0.         -0.01652571\n",
      "  1.3566536 ]\n"
     ]
    }
   ],
   "source": [
    "# SHAP预测样本归因分析\n",
    "\n",
    "pred_contribs = bst.predict(xgb_test, pred_contribs = True)\n",
    "\n",
    "# 打印第一个样本：因为该测试集包含30个特征，因此输出向量是31维，最后一列即为偏置项\n",
    "print(pred_contribs[0])"
   ]
  },
  {
   "cell_type": "code",
   "execution_count": 10,
   "metadata": {},
   "outputs": [
    {
     "name": "stdout",
     "output_type": "stream",
     "text": [
      "[ 0.          0.34236163  0.          0.21349472  0.          0.3800876\n",
      "  0.          0.40334025  0.          0.          0.13804139  0.28650513\n",
      "  0.          0.6550807   0.         -0.81003463  0.          0.\n",
      "  0.          0.          0.          0.5576966   1.8381076   0.6787368\n",
      " -0.731996    0.          0.35468978  1.324599    0.          0.\n",
      "  1.3566536 ]\n"
     ]
    }
   ],
   "source": [
    "# Sabbas预测样本归因分析\n",
    "\n",
    "pred_contribs = bst.predict(xgb_test, pred_contribs = True, approx_contribs = True)\n",
    "\n",
    "# 输出结果同上，30个特征对当前样本的贡献 和 最后一列偏置项\n",
    "print(pred_contribs[0])"
   ]
  }
 ],
 "metadata": {
  "kernelspec": {
   "display_name": "Python 3",
   "language": "python",
   "name": "python3"
  },
  "language_info": {
   "codemirror_mode": {
    "name": "ipython",
    "version": 3
   },
   "file_extension": ".py",
   "mimetype": "text/x-python",
   "name": "python",
   "nbconvert_exporter": "python",
   "pygments_lexer": "ipython3",
   "version": "3.6.8"
  }
 },
 "nbformat": 4,
 "nbformat_minor": 4
}
