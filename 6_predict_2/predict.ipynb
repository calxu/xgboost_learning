{
 "cells": [
  {
   "cell_type": "code",
   "execution_count": 1,
   "metadata": {},
   "outputs": [],
   "source": [
    "# 导入常用包\n",
    "import xgboost as xgb\n",
    "import numpy as np\n",
    "from sklearn import datasets\n",
    "from sklearn.model_selection import train_test_split\n",
    "import pandas as pd\n",
    "from sklearn.metrics import roc_auc_score\n",
    "from sklearn.feature_selection import SelectFromModel"
   ]
  },
  {
   "cell_type": "code",
   "execution_count": 2,
   "metadata": {},
   "outputs": [],
   "source": [
    "# 数据集\n",
    "cancer = datasets.load_breast_cancer()\n",
    "X = cancer.data\n",
    "Y = cancer.target"
   ]
  },
  {
   "cell_type": "code",
   "execution_count": 3,
   "metadata": {},
   "outputs": [],
   "source": [
    "# 数据集的情况\n",
    "# X.shape\n",
    "# Y.shape\n",
    "# X, Y"
   ]
  },
  {
   "cell_type": "code",
   "execution_count": 4,
   "metadata": {},
   "outputs": [],
   "source": [
    "# 拆分训练集、测试集\n",
    "X_train, X_test, Y_train, Y_test = train_test_split(X, Y, test_size = 1/5., random_state = 8)\n"
   ]
  },
  {
   "cell_type": "code",
   "execution_count": 5,
   "metadata": {},
   "outputs": [],
   "source": [
    "xgb_train = xgb.DMatrix(X_train, label = Y_train)\n",
    "xgb_test  = xgb.DMatrix(X_test,  label = Y_test)"
   ]
  },
  {
   "cell_type": "code",
   "execution_count": 6,
   "metadata": {},
   "outputs": [],
   "source": [
    "params = {\"objective\": \"binary:logistic\",\n",
    "          \"booster\": \"gbtree\",\n",
    "          \"eta\": 0.1,\n",
    "          \"max_depth\": 5\n",
    "         }"
   ]
  },
  {
   "cell_type": "code",
   "execution_count": 7,
   "metadata": {},
   "outputs": [],
   "source": [
    "num_round = 50"
   ]
  },
  {
   "cell_type": "code",
   "execution_count": 8,
   "metadata": {},
   "outputs": [],
   "source": [
    "watchlist = [(xgb_test, 'eval'), (xgb_train, 'train')]"
   ]
  },
  {
   "cell_type": "code",
   "execution_count": 9,
   "metadata": {},
   "outputs": [
    {
     "name": "stdout",
     "output_type": "stream",
     "text": [
      "[0]\teval-error:0.03509\ttrain-error:0.02418\n",
      "[1]\teval-error:0.05263\ttrain-error:0.01538\n",
      "[2]\teval-error:0.07018\ttrain-error:0.01319\n",
      "[3]\teval-error:0.07895\ttrain-error:0.00440\n",
      "[4]\teval-error:0.07895\ttrain-error:0.00440\n",
      "[5]\teval-error:0.04386\ttrain-error:0.00440\n",
      "[6]\teval-error:0.05263\ttrain-error:0.00440\n",
      "[7]\teval-error:0.06140\ttrain-error:0.00440\n",
      "[8]\teval-error:0.05263\ttrain-error:0.00440\n",
      "[9]\teval-error:0.04386\ttrain-error:0.00440\n",
      "[10]\teval-error:0.04386\ttrain-error:0.00440\n",
      "[11]\teval-error:0.04386\ttrain-error:0.00440\n",
      "[12]\teval-error:0.04386\ttrain-error:0.00440\n",
      "[13]\teval-error:0.04386\ttrain-error:0.00440\n",
      "[14]\teval-error:0.03509\ttrain-error:0.00440\n",
      "[15]\teval-error:0.03509\ttrain-error:0.00440\n",
      "[16]\teval-error:0.03509\ttrain-error:0.00440\n",
      "[17]\teval-error:0.04386\ttrain-error:0.00440\n",
      "[18]\teval-error:0.04386\ttrain-error:0.00440\n",
      "[19]\teval-error:0.04386\ttrain-error:0.00440\n"
     ]
    }
   ],
   "source": [
    "bst = xgb.train(params, xgb_train, num_boost_round = 20, evals = watchlist)"
   ]
  },
  {
   "cell_type": "code",
   "execution_count": 10,
   "metadata": {},
   "outputs": [],
   "source": [
    "# output_margin 参数设为 True，表示最终输出的预测值为未进行 sigmoid 转化的原始值\n",
    "pred_test = bst.predict(xgb_test, output_margin = True)\n",
    "pred_test_sigmoid = bst.predict(xgb_test)"
   ]
  },
  {
   "cell_type": "code",
   "execution_count": 11,
   "metadata": {},
   "outputs": [
    {
     "data": {
      "text/plain": [
       "array([0.9303397 , 0.9119321 , 0.9303397 , 0.8942841 , 0.92795146,\n",
       "       0.9303397 , 0.4654373 , 0.46111533, 0.9303397 , 0.9303397 ,\n",
       "       0.91980803, 0.9303397 , 0.9303397 , 0.07041781, 0.07041781,\n",
       "       0.9303397 , 0.89680326, 0.07595936, 0.5600603 , 0.07041781,\n",
       "       0.72333413, 0.19820794, 0.72285205, 0.9303397 , 0.9303397 ,\n",
       "       0.3644025 , 0.07041781, 0.07041781, 0.9303397 , 0.88139117],\n",
       "      dtype=float32)"
      ]
     },
     "execution_count": 11,
     "metadata": {},
     "output_type": "execute_result"
    }
   ],
   "source": [
    "# 将 原始值进行 sigmoid 转化\n",
    "1.0 / (1.0 + np.exp(-pred_test[:30]))"
   ]
  },
  {
   "cell_type": "code",
   "execution_count": 12,
   "metadata": {},
   "outputs": [
    {
     "data": {
      "text/plain": [
       "array([0.9303397 , 0.9119321 , 0.9303397 , 0.8942841 , 0.92795146,\n",
       "       0.9303397 , 0.4654373 , 0.46111533, 0.9303397 , 0.9303397 ,\n",
       "       0.91980803, 0.9303397 , 0.9303397 , 0.07041781, 0.07041781,\n",
       "       0.9303397 , 0.89680326, 0.07595936, 0.5600603 , 0.07041781,\n",
       "       0.72333413, 0.19820794, 0.72285205, 0.9303397 , 0.9303397 ,\n",
       "       0.3644025 , 0.07041781, 0.07041781, 0.9303397 , 0.88139117],\n",
       "      dtype=float32)"
      ]
     },
     "execution_count": 12,
     "metadata": {},
     "output_type": "execute_result"
    }
   ],
   "source": [
    "# 和原始值进行 simoid 转化的值进行逐一比较\n",
    "pred_test_sigmoid[:30]"
   ]
  }
 ],
 "metadata": {
  "kernelspec": {
   "display_name": "Python 3",
   "language": "python",
   "name": "python3"
  },
  "language_info": {
   "codemirror_mode": {
    "name": "ipython",
    "version": 3
   },
   "file_extension": ".py",
   "mimetype": "text/x-python",
   "name": "python",
   "nbconvert_exporter": "python",
   "pygments_lexer": "ipython3",
   "version": "3.6.8"
  }
 },
 "nbformat": 4,
 "nbformat_minor": 4
}
