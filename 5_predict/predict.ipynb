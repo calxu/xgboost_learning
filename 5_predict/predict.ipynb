{
 "cells": [
  {
   "cell_type": "code",
   "execution_count": 1,
   "metadata": {},
   "outputs": [],
   "source": [
    "# 导入常用包\n",
    "import xgboost as xgb\n",
    "import numpy as np\n",
    "from sklearn import datasets\n",
    "from sklearn.model_selection import train_test_split\n",
    "import pandas as pd\n",
    "from sklearn.metrics import roc_auc_score\n",
    "from sklearn.feature_selection import SelectFromModel"
   ]
  },
  {
   "cell_type": "code",
   "execution_count": 2,
   "metadata": {},
   "outputs": [],
   "source": [
    "# 数据集\n",
    "cancer = datasets.load_breast_cancer()\n",
    "X = cancer.data\n",
    "Y = cancer.target"
   ]
  },
  {
   "cell_type": "code",
   "execution_count": 3,
   "metadata": {
    "scrolled": true
   },
   "outputs": [],
   "source": [
    "# 数据集的情况\n",
    "# X.shape\n",
    "# Y.shape\n",
    "# X, Y"
   ]
  },
  {
   "cell_type": "code",
   "execution_count": 4,
   "metadata": {},
   "outputs": [],
   "source": [
    "# 拆分训练集、测试集\n",
    "X_train, X_test, Y_train, Y_test = train_test_split(X, Y, test_size = 1/5., random_state = 8)"
   ]
  },
  {
   "cell_type": "code",
   "execution_count": 5,
   "metadata": {},
   "outputs": [],
   "source": [
    "xgb_train = xgb.DMatrix(X_train, label = Y_train)\n",
    "xgb_test  = xgb.DMatrix(X_test,  label = Y_test)"
   ]
  },
  {
   "cell_type": "code",
   "execution_count": 6,
   "metadata": {},
   "outputs": [],
   "source": [
    "params = {\"objective\": \"binary:logistic\",\n",
    "          \"booster\": \"gbtree\",\n",
    "          \"eta\": 1,\n",
    "          \"max_depth\": 3,\n",
    "          \"eval_metric\": \"auc\"\n",
    "         }"
   ]
  },
  {
   "cell_type": "code",
   "execution_count": 7,
   "metadata": {},
   "outputs": [],
   "source": [
    "watchlist = [(xgb_test, 'eval'), (xgb_train, 'train')]"
   ]
  },
  {
   "cell_type": "code",
   "execution_count": 8,
   "metadata": {
    "scrolled": false
   },
   "outputs": [
    {
     "name": "stdout",
     "output_type": "stream",
     "text": [
      "[0]\teval-auc:0.96116\ttrain-auc:0.97537\n",
      "[1]\teval-auc:0.98306\ttrain-auc:0.99491\n",
      "[2]\teval-auc:0.99536\ttrain-auc:0.99795\n",
      "[3]\teval-auc:0.99521\ttrain-auc:0.99932\n",
      "[4]\teval-auc:0.99680\ttrain-auc:0.99987\n",
      "[5]\teval-auc:0.99776\ttrain-auc:0.99994\n",
      "[6]\teval-auc:0.99744\ttrain-auc:1.00000\n",
      "[7]\teval-auc:0.99808\ttrain-auc:1.00000\n",
      "[8]\teval-auc:0.99808\ttrain-auc:1.00000\n",
      "[9]\teval-auc:0.99744\ttrain-auc:1.00000\n",
      "[10]\teval-auc:0.99808\ttrain-auc:1.00000\n",
      "[11]\teval-auc:0.99776\ttrain-auc:1.00000\n",
      "[12]\teval-auc:0.99712\ttrain-auc:1.00000\n",
      "[13]\teval-auc:0.99776\ttrain-auc:1.00000\n",
      "[14]\teval-auc:0.99808\ttrain-auc:1.00000\n",
      "[15]\teval-auc:0.99808\ttrain-auc:1.00000\n",
      "[16]\teval-auc:0.99744\ttrain-auc:1.00000\n",
      "[17]\teval-auc:0.99744\ttrain-auc:1.00000\n",
      "[18]\teval-auc:0.99776\ttrain-auc:1.00000\n",
      "[19]\teval-auc:0.99776\ttrain-auc:1.00000\n"
     ]
    }
   ],
   "source": [
    "bst = xgb.train(params, xgb_train, num_boost_round = 20, evals = watchlist)"
   ]
  },
  {
   "cell_type": "markdown",
   "metadata": {},
   "source": [
    "# 通过前n棵树进行预测 和 通过全部树进行预测 的比较"
   ]
  },
  {
   "cell_type": "code",
   "execution_count": 9,
   "metadata": {},
   "outputs": [
    {
     "data": {
      "text/plain": [
       "0.9974424552429668"
      ]
     },
     "execution_count": 9,
     "metadata": {},
     "output_type": "execute_result"
    }
   ],
   "source": [
    "# 使用前n棵树进行预测\n",
    "pred_1 = bst.predict(xgb_test, ntree_limit = 10)\n",
    "\n",
    "# 计算前10棵树预测的AUC\n",
    "roc_auc_score(Y_test, pred_1)"
   ]
  },
  {
   "cell_type": "code",
   "execution_count": 10,
   "metadata": {},
   "outputs": [
    {
     "data": {
      "text/plain": [
       "0.9977621483375958"
      ]
     },
     "execution_count": 10,
     "metadata": {},
     "output_type": "execute_result"
    }
   ],
   "source": [
    "# 使用所有决策树进行预测\n",
    "pred_2 = bst.predict(xgb_test)\n",
    "\n",
    "# 计算所有决策树进行预测的AUC。最终预测出来的两者AUC不同\n",
    "roc_auc_score(Y_test, pred_2)"
   ]
  },
  {
   "cell_type": "markdown",
   "metadata": {},
   "source": [
    "# 预测叶子节点索引"
   ]
  },
  {
   "cell_type": "code",
   "execution_count": 11,
   "metadata": {},
   "outputs": [
    {
     "name": "stdout",
     "output_type": "stream",
     "text": [
      "(114, 10)\n",
      "[[7 7 8 ... 1 1 3]\n",
      " [7 8 8 ... 1 1 3]\n",
      " [7 7 7 ... 3 1 3]\n",
      " ...\n",
      " [7 7 8 ... 1 1 4]\n",
      " [7 7 7 ... 3 1 3]\n",
      " [7 8 8 ... 1 1 3]]\n"
     ]
    }
   ],
   "source": [
    "# 通过前10棵树预测\n",
    "# 叶子节点索引列数 = 预测树的棵数\n",
    "\n",
    "leaf_index = bst.predict(xgb_test, ntree_limit = 10, pred_leaf = True)\n",
    "print(leaf_index.shape)\n",
    "print(leaf_index)"
   ]
  },
  {
   "cell_type": "code",
   "execution_count": 12,
   "metadata": {},
   "outputs": [
    {
     "name": "stdout",
     "output_type": "stream",
     "text": [
      "(114, 20)\n",
      "[[7 7 8 ... 2 1 1]\n",
      " [7 8 8 ... 2 1 2]\n",
      " [7 7 7 ... 1 1 1]\n",
      " ...\n",
      " [7 7 8 ... 2 1 1]\n",
      " [7 7 7 ... 1 1 2]\n",
      " [7 8 8 ... 2 1 2]]\n"
     ]
    }
   ],
   "source": [
    "# 通过整个模型预测（20棵树预测）\n",
    "# 叶子节点索引列数 = 预测树的棵数\n",
    "\n",
    "leaf_index = bst.predict(xgb_test, pred_leaf = True)\n",
    "print(leaf_index.shape)\n",
    "print(leaf_index)"
   ]
  }
 ],
 "metadata": {
  "kernelspec": {
   "display_name": "Python 3",
   "language": "python",
   "name": "python3"
  },
  "language_info": {
   "codemirror_mode": {
    "name": "ipython",
    "version": 3
   },
   "file_extension": ".py",
   "mimetype": "text/x-python",
   "name": "python",
   "nbconvert_exporter": "python",
   "pygments_lexer": "ipython3",
   "version": "3.6.8"
  }
 },
 "nbformat": 4,
 "nbformat_minor": 4
}
