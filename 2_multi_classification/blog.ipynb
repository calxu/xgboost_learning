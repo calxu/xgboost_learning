{
 "cells": [
  {
   "cell_type": "code",
   "execution_count": 1,
   "metadata": {},
   "outputs": [],
   "source": [
    "import pandas as pd\n",
    "import xgboost as xgb\n",
    "import numpy as np"
   ]
  },
  {
   "cell_type": "code",
   "execution_count": 2,
   "metadata": {},
   "outputs": [],
   "source": [
    "# 读取训练集\n",
    "with open('seeds_dataset.txt.train', encoding = 'utf-8') as f:\n",
    "    train = np.loadtxt(f, delimiter = '\\t')"
   ]
  },
  {
   "cell_type": "code",
   "execution_count": 3,
   "metadata": {},
   "outputs": [],
   "source": [
    "# 读取测试集\n",
    "with open('seeds_dataset.txt.test', encoding = 'utf-8') as f:\n",
    "    test  = np.loadtxt(f, delimiter = '\\t')"
   ]
  },
  {
   "cell_type": "code",
   "execution_count": 4,
   "metadata": {},
   "outputs": [],
   "source": [
    "train_data, train_label = train[:, :7], train[:, 7]"
   ]
  },
  {
   "cell_type": "code",
   "execution_count": 5,
   "metadata": {},
   "outputs": [],
   "source": [
    "test_data,  test_label  = test[:,  :7], test[:,  7]"
   ]
  },
  {
   "cell_type": "code",
   "execution_count": 6,
   "metadata": {},
   "outputs": [
    {
     "name": "stderr",
     "output_type": "stream",
     "text": [
      "/usr/local/lib64/python3.6/site-packages/xgboost/data.py:97: UserWarning: Use subset (sliced data) of np.ndarray is not recommended because it will generate extra copies and increase memory consumption\n",
      "  \"memory consumption\")\n"
     ]
    }
   ],
   "source": [
    "xgb_train = xgb.DMatrix(train_data, label = train_label)\n",
    "xgb_test  = xgb.DMatrix(test_data,  label = test_label)"
   ]
  },
  {
   "cell_type": "markdown",
   "metadata": {},
   "source": [
    "# multi:softmax"
   ]
  },
  {
   "cell_type": "code",
   "execution_count": 7,
   "metadata": {},
   "outputs": [],
   "source": [
    "# 通过multi:softmax进行多分类\n",
    "\n",
    "params = {\n",
    "    \"objective\": \"multi:softmax\",\n",
    "    \"eta\": 0.1,\n",
    "    \"max_depth\": 2,\n",
    "    \"num_class\": 3\n",
    "}\n",
    "\n",
    "watchlist = [(xgb_train, \"train\"), (xgb_test, \"test\")]\n",
    "num_round = 50"
   ]
  },
  {
   "cell_type": "code",
   "execution_count": 8,
   "metadata": {
    "scrolled": true
   },
   "outputs": [
    {
     "name": "stdout",
     "output_type": "stream",
     "text": [
      "[0]\ttrain-merror:0.04000\ttest-merror:0.11429\n",
      "[1]\ttrain-merror:0.03429\ttest-merror:0.11429\n",
      "[2]\ttrain-merror:0.02857\ttest-merror:0.11429\n",
      "[3]\ttrain-merror:0.02857\ttest-merror:0.11429\n",
      "[4]\ttrain-merror:0.02857\ttest-merror:0.11429\n",
      "[5]\ttrain-merror:0.02286\ttest-merror:0.11429\n",
      "[6]\ttrain-merror:0.02286\ttest-merror:0.11429\n",
      "[7]\ttrain-merror:0.02857\ttest-merror:0.11429\n",
      "[8]\ttrain-merror:0.02857\ttest-merror:0.11429\n",
      "[9]\ttrain-merror:0.02857\ttest-merror:0.11429\n",
      "[10]\ttrain-merror:0.03429\ttest-merror:0.11429\n",
      "[11]\ttrain-merror:0.03429\ttest-merror:0.11429\n",
      "[12]\ttrain-merror:0.03429\ttest-merror:0.11429\n",
      "[13]\ttrain-merror:0.03429\ttest-merror:0.11429\n",
      "[14]\ttrain-merror:0.04000\ttest-merror:0.05714\n",
      "[15]\ttrain-merror:0.03429\ttest-merror:0.05714\n",
      "[16]\ttrain-merror:0.03429\ttest-merror:0.05714\n",
      "[17]\ttrain-merror:0.03429\ttest-merror:0.05714\n",
      "[18]\ttrain-merror:0.03429\ttest-merror:0.05714\n",
      "[19]\ttrain-merror:0.03429\ttest-merror:0.05714\n",
      "[20]\ttrain-merror:0.03429\ttest-merror:0.05714\n",
      "[21]\ttrain-merror:0.03429\ttest-merror:0.05714\n",
      "[22]\ttrain-merror:0.03429\ttest-merror:0.05714\n",
      "[23]\ttrain-merror:0.03429\ttest-merror:0.05714\n",
      "[24]\ttrain-merror:0.03429\ttest-merror:0.05714\n",
      "[25]\ttrain-merror:0.02857\ttest-merror:0.05714\n",
      "[26]\ttrain-merror:0.02857\ttest-merror:0.05714\n",
      "[27]\ttrain-merror:0.02857\ttest-merror:0.05714\n",
      "[28]\ttrain-merror:0.02286\ttest-merror:0.05714\n",
      "[29]\ttrain-merror:0.02286\ttest-merror:0.05714\n",
      "[30]\ttrain-merror:0.02286\ttest-merror:0.05714\n",
      "[31]\ttrain-merror:0.02286\ttest-merror:0.05714\n",
      "[32]\ttrain-merror:0.01714\ttest-merror:0.05714\n",
      "[33]\ttrain-merror:0.01714\ttest-merror:0.05714\n",
      "[34]\ttrain-merror:0.01714\ttest-merror:0.05714\n",
      "[35]\ttrain-merror:0.01714\ttest-merror:0.05714\n",
      "[36]\ttrain-merror:0.01714\ttest-merror:0.05714\n",
      "[37]\ttrain-merror:0.00571\ttest-merror:0.05714\n",
      "[38]\ttrain-merror:0.00571\ttest-merror:0.05714\n",
      "[39]\ttrain-merror:0.00571\ttest-merror:0.05714\n",
      "[40]\ttrain-merror:0.00571\ttest-merror:0.05714\n",
      "[41]\ttrain-merror:0.00571\ttest-merror:0.05714\n",
      "[42]\ttrain-merror:0.00571\ttest-merror:0.05714\n",
      "[43]\ttrain-merror:0.00571\ttest-merror:0.05714\n",
      "[44]\ttrain-merror:0.00000\ttest-merror:0.05714\n",
      "[45]\ttrain-merror:0.00000\ttest-merror:0.05714\n",
      "[46]\ttrain-merror:0.00000\ttest-merror:0.05714\n",
      "[47]\ttrain-merror:0.00000\ttest-merror:0.05714\n",
      "[48]\ttrain-merror:0.00000\ttest-merror:0.05714\n",
      "[49]\ttrain-merror:0.00000\ttest-merror:0.05714\n"
     ]
    }
   ],
   "source": [
    "bst_1 = xgb.train(params, xgb_train, num_round, watchlist)"
   ]
  },
  {
   "cell_type": "code",
   "execution_count": 9,
   "metadata": {},
   "outputs": [
    {
     "data": {
      "text/plain": [
       "array([0., 0., 2., 0., 0., 0., 0., 0., 0., 2., 0., 1., 1., 1., 1., 1., 1.,\n",
       "       1., 1., 1., 1., 1., 1., 1., 1., 2., 2., 2., 2., 2., 2., 2., 2., 2.,\n",
       "       2.], dtype=float32)"
      ]
     },
     "execution_count": 9,
     "metadata": {},
     "output_type": "execute_result"
    }
   ],
   "source": [
    "# 模型预测\n",
    "pred = bst_1.predict(xgb_test)\n",
    "pred"
   ]
  },
  {
   "cell_type": "code",
   "execution_count": 10,
   "metadata": {},
   "outputs": [
    {
     "data": {
      "text/plain": [
       "0.05714285714285714"
      ]
     },
     "execution_count": 10,
     "metadata": {},
     "output_type": "execute_result"
    }
   ],
   "source": [
    "# 测试集错误率\n",
    "error_rate = np.sum(pred != test_label) / test.shape[0]\n",
    "error_rate"
   ]
  },
  {
   "cell_type": "markdown",
   "metadata": {},
   "source": [
    "# multi:softprob"
   ]
  },
  {
   "cell_type": "code",
   "execution_count": 11,
   "metadata": {},
   "outputs": [],
   "source": [
    "# 通过multi:softprob进行多分类\n",
    "\n",
    "params = {\n",
    "    \"objective\": \"multi:softprob\",\n",
    "    \"eta\": 0.1,\n",
    "    \"max_depth\": 2,\n",
    "    \"num_class\": 3\n",
    "}\n",
    "\n",
    "watchlist = [(xgb_train, \"train\"), (xgb_test, \"test\")]\n",
    "num_round = 50"
   ]
  },
  {
   "cell_type": "code",
   "execution_count": 12,
   "metadata": {
    "scrolled": true
   },
   "outputs": [
    {
     "name": "stdout",
     "output_type": "stream",
     "text": [
      "[0]\ttrain-merror:0.04000\ttest-merror:0.11429\n",
      "[1]\ttrain-merror:0.03429\ttest-merror:0.11429\n",
      "[2]\ttrain-merror:0.02857\ttest-merror:0.11429\n",
      "[3]\ttrain-merror:0.02857\ttest-merror:0.11429\n",
      "[4]\ttrain-merror:0.02857\ttest-merror:0.11429\n",
      "[5]\ttrain-merror:0.02286\ttest-merror:0.11429\n",
      "[6]\ttrain-merror:0.02286\ttest-merror:0.11429\n",
      "[7]\ttrain-merror:0.02857\ttest-merror:0.11429\n",
      "[8]\ttrain-merror:0.02857\ttest-merror:0.11429\n",
      "[9]\ttrain-merror:0.02857\ttest-merror:0.11429\n",
      "[10]\ttrain-merror:0.03429\ttest-merror:0.11429\n",
      "[11]\ttrain-merror:0.03429\ttest-merror:0.11429\n",
      "[12]\ttrain-merror:0.03429\ttest-merror:0.11429\n",
      "[13]\ttrain-merror:0.03429\ttest-merror:0.11429\n",
      "[14]\ttrain-merror:0.04000\ttest-merror:0.05714\n",
      "[15]\ttrain-merror:0.03429\ttest-merror:0.05714\n",
      "[16]\ttrain-merror:0.03429\ttest-merror:0.05714\n",
      "[17]\ttrain-merror:0.03429\ttest-merror:0.05714\n",
      "[18]\ttrain-merror:0.03429\ttest-merror:0.05714\n",
      "[19]\ttrain-merror:0.03429\ttest-merror:0.05714\n",
      "[20]\ttrain-merror:0.03429\ttest-merror:0.05714\n",
      "[21]\ttrain-merror:0.03429\ttest-merror:0.05714\n",
      "[22]\ttrain-merror:0.03429\ttest-merror:0.05714\n",
      "[23]\ttrain-merror:0.03429\ttest-merror:0.05714\n",
      "[24]\ttrain-merror:0.03429\ttest-merror:0.05714\n",
      "[25]\ttrain-merror:0.02857\ttest-merror:0.05714\n",
      "[26]\ttrain-merror:0.02857\ttest-merror:0.05714\n",
      "[27]\ttrain-merror:0.02857\ttest-merror:0.05714\n",
      "[28]\ttrain-merror:0.02286\ttest-merror:0.05714\n",
      "[29]\ttrain-merror:0.02286\ttest-merror:0.05714\n",
      "[30]\ttrain-merror:0.02286\ttest-merror:0.05714\n",
      "[31]\ttrain-merror:0.02286\ttest-merror:0.05714\n",
      "[32]\ttrain-merror:0.01714\ttest-merror:0.05714\n",
      "[33]\ttrain-merror:0.01714\ttest-merror:0.05714\n",
      "[34]\ttrain-merror:0.01714\ttest-merror:0.05714\n",
      "[35]\ttrain-merror:0.01714\ttest-merror:0.05714\n",
      "[36]\ttrain-merror:0.01714\ttest-merror:0.05714\n",
      "[37]\ttrain-merror:0.00571\ttest-merror:0.05714\n",
      "[38]\ttrain-merror:0.00571\ttest-merror:0.05714\n",
      "[39]\ttrain-merror:0.00571\ttest-merror:0.05714\n",
      "[40]\ttrain-merror:0.00571\ttest-merror:0.05714\n",
      "[41]\ttrain-merror:0.00571\ttest-merror:0.05714\n",
      "[42]\ttrain-merror:0.00571\ttest-merror:0.05714\n",
      "[43]\ttrain-merror:0.00571\ttest-merror:0.05714\n",
      "[44]\ttrain-merror:0.00000\ttest-merror:0.05714\n",
      "[45]\ttrain-merror:0.00000\ttest-merror:0.05714\n",
      "[46]\ttrain-merror:0.00000\ttest-merror:0.05714\n",
      "[47]\ttrain-merror:0.00000\ttest-merror:0.05714\n",
      "[48]\ttrain-merror:0.00000\ttest-merror:0.05714\n",
      "[49]\ttrain-merror:0.00000\ttest-merror:0.05714\n"
     ]
    }
   ],
   "source": [
    "bst_2 = xgb.train(params, xgb_train, num_round, watchlist)"
   ]
  },
  {
   "cell_type": "code",
   "execution_count": 13,
   "metadata": {
    "scrolled": true
   },
   "outputs": [
    {
     "data": {
      "text/plain": [
       "array([[0.98332614, 0.00829965, 0.00837418],\n",
       "       [0.98126423, 0.009326  , 0.00940975],\n",
       "       [0.08527964, 0.00643307, 0.9082873 ],\n",
       "       [0.8859765 , 0.08935267, 0.02467079],\n",
       "       [0.9849219 , 0.00750539, 0.0075728 ],\n",
       "       [0.8406657 , 0.04346374, 0.11587052],\n",
       "       [0.98126423, 0.009326  , 0.00940975],\n",
       "       [0.97942823, 0.01304122, 0.00753056],\n",
       "       [0.9712129 , 0.01432917, 0.01445784],\n",
       "       [0.37350857, 0.01729015, 0.60920125],\n",
       "       [0.91517293, 0.00869787, 0.07612918],\n",
       "       [0.05535635, 0.9367563 , 0.00788732],\n",
       "       [0.02188178, 0.9699514 , 0.00816681],\n",
       "       [0.10444342, 0.86837035, 0.0271862 ],\n",
       "       [0.10444342, 0.86837035, 0.0271862 ],\n",
       "       [0.02318318, 0.96816427, 0.00865253],\n",
       "       [0.11847033, 0.85476923, 0.02676039],\n",
       "       [0.01069443, 0.9850959 , 0.00420958],\n",
       "       [0.02662113, 0.96475685, 0.00862208],\n",
       "       [0.02318318, 0.96816427, 0.00865253],\n",
       "       [0.01062979, 0.97914165, 0.01022859],\n",
       "       [0.02318318, 0.96816427, 0.00865253],\n",
       "       [0.01475905, 0.97701466, 0.00822628],\n",
       "       [0.03515204, 0.96005505, 0.00479288],\n",
       "       [0.24620213, 0.7464554 , 0.00734253],\n",
       "       [0.14635858, 0.00979694, 0.8438445 ],\n",
       "       [0.00964227, 0.00445723, 0.98590046],\n",
       "       [0.00964227, 0.00445723, 0.98590046],\n",
       "       [0.00964227, 0.00445723, 0.98590046],\n",
       "       [0.00991777, 0.00445599, 0.9856263 ],\n",
       "       [0.00991777, 0.00445599, 0.9856263 ],\n",
       "       [0.08482859, 0.01717002, 0.8980014 ],\n",
       "       [0.00964227, 0.00445723, 0.98590046],\n",
       "       [0.00991777, 0.00445599, 0.9856263 ],\n",
       "       [0.08482859, 0.01717002, 0.8980014 ]], dtype=float32)"
      ]
     },
     "execution_count": 13,
     "metadata": {},
     "output_type": "execute_result"
    }
   ],
   "source": [
    "# 模型预测\n",
    "pred_prob = bst_2.predict(xgb_test)\n",
    "pred_prob"
   ]
  },
  {
   "cell_type": "code",
   "execution_count": 14,
   "metadata": {},
   "outputs": [
    {
     "data": {
      "text/plain": [
       "array([0, 0, 2, 0, 0, 0, 0, 0, 0, 2, 0, 1, 1, 1, 1, 1, 1, 1, 1, 1, 1, 1,\n",
       "       1, 1, 1, 2, 2, 2, 2, 2, 2, 2, 2, 2, 2])"
      ]
     },
     "execution_count": 14,
     "metadata": {},
     "output_type": "execute_result"
    }
   ],
   "source": [
    "# 取向量中预测值最大的分类作为预测类别\n",
    "pred_label = np.argmax(pred_prob, axis = 1)\n",
    "pred_label"
   ]
  },
  {
   "cell_type": "code",
   "execution_count": 15,
   "metadata": {},
   "outputs": [
    {
     "data": {
      "text/plain": [
       "0.05714285714285714"
      ]
     },
     "execution_count": 15,
     "metadata": {},
     "output_type": "execute_result"
    }
   ],
   "source": [
    "# 计算测试集错误率\n",
    "error_rate = np.sum(pred_label != test_label) / test.shape[0]\n",
    "error_rate"
   ]
  },
  {
   "cell_type": "code",
   "execution_count": 16,
   "metadata": {},
   "outputs": [
    {
     "data": {
      "text/plain": [
       "array([ True,  True,  True,  True,  True,  True,  True,  True,  True,\n",
       "        True,  True,  True,  True,  True,  True,  True,  True,  True,\n",
       "        True,  True,  True,  True,  True,  True,  True,  True,  True,\n",
       "        True,  True,  True,  True,  True,  True,  True,  True])"
      ]
     },
     "execution_count": 16,
     "metadata": {},
     "output_type": "execute_result"
    }
   ],
   "source": [
    "# multi:softmax预测值 与 multi:softprob向量中最大的分类作为预测值 结果完全一致\n",
    "pred == pred_label"
   ]
  },
  {
   "cell_type": "markdown",
   "metadata": {},
   "source": [
    "# 可视化模型"
   ]
  },
  {
   "cell_type": "code",
   "execution_count": 17,
   "metadata": {},
   "outputs": [
    {
     "data": {
      "image/svg+xml": [
       "<?xml version=\"1.0\" encoding=\"UTF-8\" standalone=\"no\"?>\n",
       "<!DOCTYPE svg PUBLIC \"-//W3C//DTD SVG 1.1//EN\"\n",
       " \"http://www.w3.org/Graphics/SVG/1.1/DTD/svg11.dtd\">\n",
       "<!-- Generated by graphviz version 2.30.1 (20180420.1509)\n",
       " -->\n",
       "<!-- Title: %3 Pages: 1 -->\n",
       "<svg width=\"697pt\" height=\"220pt\"\n",
       " viewBox=\"0.00 0.00 697.00 220.00\" xmlns=\"http://www.w3.org/2000/svg\" xmlns:xlink=\"http://www.w3.org/1999/xlink\">\n",
       "<g id=\"graph0\" class=\"graph\" transform=\"scale(1 1) rotate(0) translate(4 216)\">\n",
       "<title>%3</title>\n",
       "<polygon fill=\"white\" stroke=\"white\" points=\"-4,5 -4,-216 694,-216 694,5 -4,5\"/>\n",
       "<!-- 0 -->\n",
       "<g id=\"node1\" class=\"node\"><title>0</title>\n",
       "<ellipse fill=\"none\" stroke=\"black\" cx=\"351\" cy=\"-194\" rx=\"65.4659\" ry=\"18\"/>\n",
       "<text text-anchor=\"middle\" x=\"351\" y=\"-190.3\" font-family=\"Times,serif\" font-size=\"14.00\">f5&lt;2.82550001</text>\n",
       "</g>\n",
       "<!-- 1 -->\n",
       "<g id=\"node2\" class=\"node\"><title>1</title>\n",
       "<ellipse fill=\"none\" stroke=\"black\" cx=\"252\" cy=\"-106\" rx=\"65.4659\" ry=\"18\"/>\n",
       "<text text-anchor=\"middle\" x=\"252\" y=\"-102.3\" font-family=\"Times,serif\" font-size=\"14.00\">f0&lt;17.5900002</text>\n",
       "</g>\n",
       "<!-- 0&#45;&gt;1 -->\n",
       "<g id=\"edge1\" class=\"edge\"><title>0&#45;&gt;1</title>\n",
       "<path fill=\"none\" stroke=\"#0000ff\" d=\"M331.912,-176.418C316.846,-163.331 295.645,-144.914 278.865,-130.338\"/>\n",
       "<polygon fill=\"#0000ff\" stroke=\"#0000ff\" points=\"280.874,-127.447 271.03,-123.531 276.284,-132.731 280.874,-127.447\"/>\n",
       "<text text-anchor=\"middle\" x=\"345\" y=\"-146.3\" font-family=\"Times,serif\" font-size=\"14.00\">yes, missing</text>\n",
       "</g>\n",
       "<!-- 2 -->\n",
       "<g id=\"node3\" class=\"node\"><title>2</title>\n",
       "<ellipse fill=\"none\" stroke=\"black\" cx=\"429\" cy=\"-106\" rx=\"65.4659\" ry=\"18\"/>\n",
       "<text text-anchor=\"middle\" x=\"429\" y=\"-102.3\" font-family=\"Times,serif\" font-size=\"14.00\">f6&lt;4.82649994</text>\n",
       "</g>\n",
       "<!-- 0&#45;&gt;2 -->\n",
       "<g id=\"edge2\" class=\"edge\"><title>0&#45;&gt;2</title>\n",
       "<path fill=\"none\" stroke=\"#ff0000\" d=\"M366.039,-176.418C377.693,-163.569 394.007,-145.582 407.109,-131.136\"/>\n",
       "<polygon fill=\"#ff0000\" stroke=\"#ff0000\" points=\"409.881,-133.289 414.007,-123.531 404.696,-128.587 409.881,-133.289\"/>\n",
       "<text text-anchor=\"middle\" x=\"404\" y=\"-146.3\" font-family=\"Times,serif\" font-size=\"14.00\">no</text>\n",
       "</g>\n",
       "<!-- 3 -->\n",
       "<g id=\"node4\" class=\"node\"><title>3</title>\n",
       "<ellipse fill=\"none\" stroke=\"black\" cx=\"75\" cy=\"-18\" rx=\"75.0904\" ry=\"18\"/>\n",
       "<text text-anchor=\"middle\" x=\"75\" y=\"-14.3\" font-family=\"Times,serif\" font-size=\"14.00\">leaf=0.116184972</text>\n",
       "</g>\n",
       "<!-- 1&#45;&gt;3 -->\n",
       "<g id=\"edge3\" class=\"edge\"><title>1&#45;&gt;3</title>\n",
       "<path fill=\"none\" stroke=\"#0000ff\" d=\"M221.169,-90.0199C191.961,-75.8286 147.91,-54.4252 115.803,-38.8251\"/>\n",
       "<polygon fill=\"#0000ff\" stroke=\"#0000ff\" points=\"117.194,-35.6097 106.67,-34.3875 114.135,-41.9058 117.194,-35.6097\"/>\n",
       "<text text-anchor=\"middle\" x=\"214\" y=\"-58.3\" font-family=\"Times,serif\" font-size=\"14.00\">yes, missing</text>\n",
       "</g>\n",
       "<!-- 4 -->\n",
       "<g id=\"node5\" class=\"node\"><title>4</title>\n",
       "<ellipse fill=\"none\" stroke=\"black\" cx=\"252\" cy=\"-18\" rx=\"83.2892\" ry=\"18\"/>\n",
       "<text text-anchor=\"middle\" x=\"252\" y=\"-14.3\" font-family=\"Times,serif\" font-size=\"14.00\">leaf=&#45;0.0545454584</text>\n",
       "</g>\n",
       "<!-- 1&#45;&gt;4 -->\n",
       "<g id=\"edge4\" class=\"edge\"><title>1&#45;&gt;4</title>\n",
       "<path fill=\"none\" stroke=\"#ff0000\" d=\"M252,-87.5966C252,-75.7459 252,-59.8169 252,-46.2917\"/>\n",
       "<polygon fill=\"#ff0000\" stroke=\"#ff0000\" points=\"255.5,-46.084 252,-36.084 248.5,-46.084 255.5,-46.084\"/>\n",
       "<text text-anchor=\"middle\" x=\"259\" y=\"-58.3\" font-family=\"Times,serif\" font-size=\"14.00\">no</text>\n",
       "</g>\n",
       "<!-- 5 -->\n",
       "<g id=\"node6\" class=\"node\"><title>5</title>\n",
       "<ellipse fill=\"none\" stroke=\"black\" cx=\"429\" cy=\"-18\" rx=\"75.0904\" ry=\"18\"/>\n",
       "<text text-anchor=\"middle\" x=\"429\" y=\"-14.3\" font-family=\"Times,serif\" font-size=\"14.00\">leaf=0.109090917</text>\n",
       "</g>\n",
       "<!-- 2&#45;&gt;5 -->\n",
       "<g id=\"edge5\" class=\"edge\"><title>2&#45;&gt;5</title>\n",
       "<path fill=\"none\" stroke=\"#0000ff\" d=\"M429,-87.5966C429,-75.7459 429,-59.8169 429,-46.2917\"/>\n",
       "<polygon fill=\"#0000ff\" stroke=\"#0000ff\" points=\"432.5,-46.084 429,-36.084 425.5,-46.084 432.5,-46.084\"/>\n",
       "<text text-anchor=\"middle\" x=\"463\" y=\"-58.3\" font-family=\"Times,serif\" font-size=\"14.00\">yes, missing</text>\n",
       "</g>\n",
       "<!-- 6 -->\n",
       "<g id=\"node7\" class=\"node\"><title>6</title>\n",
       "<ellipse fill=\"none\" stroke=\"black\" cx=\"606\" cy=\"-18\" rx=\"83.2892\" ry=\"18\"/>\n",
       "<text text-anchor=\"middle\" x=\"606\" y=\"-14.3\" font-family=\"Times,serif\" font-size=\"14.00\">leaf=&#45;0.0428571515</text>\n",
       "</g>\n",
       "<!-- 2&#45;&gt;6 -->\n",
       "<g id=\"edge6\" class=\"edge\"><title>2&#45;&gt;6</title>\n",
       "<path fill=\"none\" stroke=\"#ff0000\" d=\"M459.831,-90.0199C488.859,-75.9162 532.547,-54.6891 564.601,-39.1146\"/>\n",
       "<polygon fill=\"#ff0000\" stroke=\"#ff0000\" points=\"566.264,-42.1983 573.728,-34.68 563.204,-35.9022 566.264,-42.1983\"/>\n",
       "<text text-anchor=\"middle\" x=\"541\" y=\"-58.3\" font-family=\"Times,serif\" font-size=\"14.00\">no</text>\n",
       "</g>\n",
       "</g>\n",
       "</svg>\n"
      ],
      "text/plain": [
       "<graphviz.files.Source at 0x7f75af90c6d8>"
      ]
     },
     "execution_count": 17,
     "metadata": {},
     "output_type": "execute_result"
    }
   ],
   "source": [
    "xgb.to_graphviz(bst_1, fmap = '', num_trees = 0)"
   ]
  },
  {
   "cell_type": "code",
   "execution_count": 18,
   "metadata": {},
   "outputs": [
    {
     "data": {
      "image/svg+xml": [
       "<?xml version=\"1.0\" encoding=\"UTF-8\" standalone=\"no\"?>\n",
       "<!DOCTYPE svg PUBLIC \"-//W3C//DTD SVG 1.1//EN\"\n",
       " \"http://www.w3.org/Graphics/SVG/1.1/DTD/svg11.dtd\">\n",
       "<!-- Generated by graphviz version 2.30.1 (20180420.1509)\n",
       " -->\n",
       "<!-- Title: %3 Pages: 1 -->\n",
       "<svg width=\"697pt\" height=\"220pt\"\n",
       " viewBox=\"0.00 0.00 697.00 220.00\" xmlns=\"http://www.w3.org/2000/svg\" xmlns:xlink=\"http://www.w3.org/1999/xlink\">\n",
       "<g id=\"graph0\" class=\"graph\" transform=\"scale(1 1) rotate(0) translate(4 216)\">\n",
       "<title>%3</title>\n",
       "<polygon fill=\"white\" stroke=\"white\" points=\"-4,5 -4,-216 694,-216 694,5 -4,5\"/>\n",
       "<!-- 0 -->\n",
       "<g id=\"node1\" class=\"node\"><title>0</title>\n",
       "<ellipse fill=\"none\" stroke=\"black\" cx=\"351\" cy=\"-194\" rx=\"65.4659\" ry=\"18\"/>\n",
       "<text text-anchor=\"middle\" x=\"351\" y=\"-190.3\" font-family=\"Times,serif\" font-size=\"14.00\">f5&lt;2.82550001</text>\n",
       "</g>\n",
       "<!-- 1 -->\n",
       "<g id=\"node2\" class=\"node\"><title>1</title>\n",
       "<ellipse fill=\"none\" stroke=\"black\" cx=\"252\" cy=\"-106\" rx=\"65.4659\" ry=\"18\"/>\n",
       "<text text-anchor=\"middle\" x=\"252\" y=\"-102.3\" font-family=\"Times,serif\" font-size=\"14.00\">f0&lt;17.5900002</text>\n",
       "</g>\n",
       "<!-- 0&#45;&gt;1 -->\n",
       "<g id=\"edge1\" class=\"edge\"><title>0&#45;&gt;1</title>\n",
       "<path fill=\"none\" stroke=\"#0000ff\" d=\"M331.912,-176.418C316.846,-163.331 295.645,-144.914 278.865,-130.338\"/>\n",
       "<polygon fill=\"#0000ff\" stroke=\"#0000ff\" points=\"280.874,-127.447 271.03,-123.531 276.284,-132.731 280.874,-127.447\"/>\n",
       "<text text-anchor=\"middle\" x=\"345\" y=\"-146.3\" font-family=\"Times,serif\" font-size=\"14.00\">yes, missing</text>\n",
       "</g>\n",
       "<!-- 2 -->\n",
       "<g id=\"node3\" class=\"node\"><title>2</title>\n",
       "<ellipse fill=\"none\" stroke=\"black\" cx=\"429\" cy=\"-106\" rx=\"65.4659\" ry=\"18\"/>\n",
       "<text text-anchor=\"middle\" x=\"429\" y=\"-102.3\" font-family=\"Times,serif\" font-size=\"14.00\">f6&lt;4.82649994</text>\n",
       "</g>\n",
       "<!-- 0&#45;&gt;2 -->\n",
       "<g id=\"edge2\" class=\"edge\"><title>0&#45;&gt;2</title>\n",
       "<path fill=\"none\" stroke=\"#ff0000\" d=\"M366.039,-176.418C377.693,-163.569 394.007,-145.582 407.109,-131.136\"/>\n",
       "<polygon fill=\"#ff0000\" stroke=\"#ff0000\" points=\"409.881,-133.289 414.007,-123.531 404.696,-128.587 409.881,-133.289\"/>\n",
       "<text text-anchor=\"middle\" x=\"404\" y=\"-146.3\" font-family=\"Times,serif\" font-size=\"14.00\">no</text>\n",
       "</g>\n",
       "<!-- 3 -->\n",
       "<g id=\"node4\" class=\"node\"><title>3</title>\n",
       "<ellipse fill=\"none\" stroke=\"black\" cx=\"75\" cy=\"-18\" rx=\"75.0904\" ry=\"18\"/>\n",
       "<text text-anchor=\"middle\" x=\"75\" y=\"-14.3\" font-family=\"Times,serif\" font-size=\"14.00\">leaf=0.116184972</text>\n",
       "</g>\n",
       "<!-- 1&#45;&gt;3 -->\n",
       "<g id=\"edge3\" class=\"edge\"><title>1&#45;&gt;3</title>\n",
       "<path fill=\"none\" stroke=\"#0000ff\" d=\"M221.169,-90.0199C191.961,-75.8286 147.91,-54.4252 115.803,-38.8251\"/>\n",
       "<polygon fill=\"#0000ff\" stroke=\"#0000ff\" points=\"117.194,-35.6097 106.67,-34.3875 114.135,-41.9058 117.194,-35.6097\"/>\n",
       "<text text-anchor=\"middle\" x=\"214\" y=\"-58.3\" font-family=\"Times,serif\" font-size=\"14.00\">yes, missing</text>\n",
       "</g>\n",
       "<!-- 4 -->\n",
       "<g id=\"node5\" class=\"node\"><title>4</title>\n",
       "<ellipse fill=\"none\" stroke=\"black\" cx=\"252\" cy=\"-18\" rx=\"83.2892\" ry=\"18\"/>\n",
       "<text text-anchor=\"middle\" x=\"252\" y=\"-14.3\" font-family=\"Times,serif\" font-size=\"14.00\">leaf=&#45;0.0545454584</text>\n",
       "</g>\n",
       "<!-- 1&#45;&gt;4 -->\n",
       "<g id=\"edge4\" class=\"edge\"><title>1&#45;&gt;4</title>\n",
       "<path fill=\"none\" stroke=\"#ff0000\" d=\"M252,-87.5966C252,-75.7459 252,-59.8169 252,-46.2917\"/>\n",
       "<polygon fill=\"#ff0000\" stroke=\"#ff0000\" points=\"255.5,-46.084 252,-36.084 248.5,-46.084 255.5,-46.084\"/>\n",
       "<text text-anchor=\"middle\" x=\"259\" y=\"-58.3\" font-family=\"Times,serif\" font-size=\"14.00\">no</text>\n",
       "</g>\n",
       "<!-- 5 -->\n",
       "<g id=\"node6\" class=\"node\"><title>5</title>\n",
       "<ellipse fill=\"none\" stroke=\"black\" cx=\"429\" cy=\"-18\" rx=\"75.0904\" ry=\"18\"/>\n",
       "<text text-anchor=\"middle\" x=\"429\" y=\"-14.3\" font-family=\"Times,serif\" font-size=\"14.00\">leaf=0.109090917</text>\n",
       "</g>\n",
       "<!-- 2&#45;&gt;5 -->\n",
       "<g id=\"edge5\" class=\"edge\"><title>2&#45;&gt;5</title>\n",
       "<path fill=\"none\" stroke=\"#0000ff\" d=\"M429,-87.5966C429,-75.7459 429,-59.8169 429,-46.2917\"/>\n",
       "<polygon fill=\"#0000ff\" stroke=\"#0000ff\" points=\"432.5,-46.084 429,-36.084 425.5,-46.084 432.5,-46.084\"/>\n",
       "<text text-anchor=\"middle\" x=\"463\" y=\"-58.3\" font-family=\"Times,serif\" font-size=\"14.00\">yes, missing</text>\n",
       "</g>\n",
       "<!-- 6 -->\n",
       "<g id=\"node7\" class=\"node\"><title>6</title>\n",
       "<ellipse fill=\"none\" stroke=\"black\" cx=\"606\" cy=\"-18\" rx=\"83.2892\" ry=\"18\"/>\n",
       "<text text-anchor=\"middle\" x=\"606\" y=\"-14.3\" font-family=\"Times,serif\" font-size=\"14.00\">leaf=&#45;0.0428571515</text>\n",
       "</g>\n",
       "<!-- 2&#45;&gt;6 -->\n",
       "<g id=\"edge6\" class=\"edge\"><title>2&#45;&gt;6</title>\n",
       "<path fill=\"none\" stroke=\"#ff0000\" d=\"M459.831,-90.0199C488.859,-75.9162 532.547,-54.6891 564.601,-39.1146\"/>\n",
       "<polygon fill=\"#ff0000\" stroke=\"#ff0000\" points=\"566.264,-42.1983 573.728,-34.68 563.204,-35.9022 566.264,-42.1983\"/>\n",
       "<text text-anchor=\"middle\" x=\"541\" y=\"-58.3\" font-family=\"Times,serif\" font-size=\"14.00\">no</text>\n",
       "</g>\n",
       "</g>\n",
       "</svg>\n"
      ],
      "text/plain": [
       "<graphviz.files.Source at 0x7f75af90cc88>"
      ]
     },
     "execution_count": 18,
     "metadata": {},
     "output_type": "execute_result"
    }
   ],
   "source": [
    "xgb.to_graphviz(bst_2, fmap = '', num_trees = 0)"
   ]
  }
 ],
 "metadata": {
  "kernelspec": {
   "display_name": "Python 3",
   "language": "python",
   "name": "python3"
  },
  "language_info": {
   "codemirror_mode": {
    "name": "ipython",
    "version": 3
   },
   "file_extension": ".py",
   "mimetype": "text/x-python",
   "name": "python",
   "nbconvert_exporter": "python",
   "pygments_lexer": "ipython3",
   "version": "3.6.8"
  }
 },
 "nbformat": 4,
 "nbformat_minor": 4
}
